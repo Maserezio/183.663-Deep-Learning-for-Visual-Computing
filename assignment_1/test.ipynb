{
 "cells": [
  {
   "metadata": {
    "ExecuteTime": {
     "end_time": "2024-04-27T18:33:05.662768Z",
     "start_time": "2024-04-27T18:33:05.320880Z"
    }
   },
   "cell_type": "code",
   "source": [
    "import os\n",
    "import tarfile\n",
    "import urllib.request\n",
    "import matplotlib.pyplot as plt\n",
    "\n",
    "from dlvc.datasets.cifar10 import CIFAR10Dataset\n",
    "from dlvc.datasets.dataset import Subset\n",
    "\n",
    "%load_ext autoreload"
   ],
   "id": "7ef46405df5b3bb3",
   "execution_count": 1,
   "outputs": []
  },
  {
   "cell_type": "code",
   "id": "initial_id",
   "metadata": {
    "collapsed": true,
    "ExecuteTime": {
     "end_time": "2024-04-27T18:33:05.712801Z",
     "start_time": "2024-04-27T18:33:05.663841Z"
    }
   },
   "source": [
    "def unpickle(file):\n",
    "    import pickle\n",
    "    with open(file, 'rb') as fo:\n",
    "        dict = pickle.load(fo, encoding='bytes')\n",
    "    return dict\n",
    "\n",
    "unpickle('cifar-10-batches-py/data_batch_1')"
   ],
   "execution_count": 2,
   "outputs": []
  },
  {
   "metadata": {
    "ExecuteTime": {
     "end_time": "2024-04-27T18:33:05.930119Z",
     "start_time": "2024-04-27T18:33:05.713561Z"
    }
   },
   "cell_type": "code",
   "source": [
    "data_directory = 'cifar-10-batches-py'\n",
    "\n",
    "training_dataset = CIFAR10Dataset(fdir=data_directory, subset=Subset.TRAINING)\n",
    "validation_dataset = CIFAR10Dataset(fdir=data_directory, subset=Subset.VALIDATION)\n",
    "test_dataset = CIFAR10Dataset(fdir=data_directory, subset=Subset.TEST)"
   ],
   "id": "8ba64473707e0ac5",
   "execution_count": 3,
   "outputs": []
  },
  {
   "metadata": {
    "ExecuteTime": {
     "end_time": "2024-04-27T18:33:05.932933Z",
     "start_time": "2024-04-27T18:33:05.931287Z"
    }
   },
   "cell_type": "code",
   "source": "",
   "id": "e88e900371c9818b",
   "execution_count": 3,
   "outputs": []
  },
  {
   "metadata": {
    "ExecuteTime": {
     "end_time": "2024-04-27T18:33:05.936490Z",
     "start_time": "2024-04-27T18:33:05.933875Z"
    }
   },
   "cell_type": "code",
   "source": "len(training_dataset.classes)",
   "id": "aa7ab5bfacdeefda",
   "execution_count": 4,
   "outputs": []
  },
  {
   "metadata": {
    "ExecuteTime": {
     "end_time": "2024-04-27T18:33:05.940554Z",
     "start_time": "2024-04-27T18:33:05.937476Z"
    }
   },
   "cell_type": "code",
   "source": "training_dataset.__len__()",
   "id": "7229a27a509d9fa3",
   "execution_count": 5,
   "outputs": []
  },
  {
   "metadata": {
    "ExecuteTime": {
     "end_time": "2024-04-27T18:33:05.944039Z",
     "start_time": "2024-04-27T18:33:05.941302Z"
    }
   },
   "cell_type": "code",
   "source": "validation_dataset.__len__()",
   "id": "cc2726f36d6f6146",
   "execution_count": 6,
   "outputs": []
  },
  {
   "metadata": {
    "ExecuteTime": {
     "end_time": "2024-04-27T18:33:05.947416Z",
     "start_time": "2024-04-27T18:33:05.944695Z"
    }
   },
   "cell_type": "code",
   "source": "test_dataset.__len__()",
   "id": "2c2e120291b8c3b3",
   "execution_count": 7,
   "outputs": []
  },
  {
   "metadata": {
    "ExecuteTime": {
     "end_time": "2024-04-27T18:33:05.950470Z",
     "start_time": "2024-04-27T18:33:05.948134Z"
    }
   },
   "cell_type": "code",
   "source": "training_dataset.num_classes()",
   "id": "4762c4bdea6a36f6",
   "execution_count": 8,
   "outputs": []
  },
  {
   "metadata": {
    "ExecuteTime": {
     "end_time": "2024-04-27T18:33:05.954235Z",
     "start_time": "2024-04-27T18:33:05.951772Z"
    }
   },
   "cell_type": "code",
   "source": "training_dataset[0][0].shape",
   "id": "e1862ba7a67772ba",
   "execution_count": 9,
   "outputs": []
  },
  {
   "metadata": {
    "ExecuteTime": {
     "end_time": "2024-04-27T18:33:06.155837Z",
     "start_time": "2024-04-27T18:33:05.954867Z"
    }
   },
   "cell_type": "code",
   "source": [
    "def plot_samples(dataset, num_samples=8):\n",
    "    fig, axes = plt.subplots(1, num_samples, figsize=(2*num_samples, 2))\n",
    "    for i, ax in enumerate(axes):\n",
    "        # Retrieve the i-th sample from the dataset\n",
    "        image, label = dataset[i]\n",
    "        \n",
    "        ax.imshow(image)\n",
    "        ax.set_title(f'Label: {dataset.classes[label]}')\n",
    "        ax.axis('off')\n",
    "    plt.show()\n",
    "    \n",
    "def plot_sample(sample):\n",
    "    fig, ax = plt.subplots(1, 1, figsize=(2, 2))\n",
    "    image, label = sample\n",
    "    ax.imshow(image)\n",
    "    ax.set_title(f'Label: {training_dataset.classes[label]}')\n",
    "    ax.axis('off')\n",
    "    plt.show()\n",
    "\n",
    "# Plot samples from each dataset\n",
    "print(\"Training Samples:\")\n",
    "plot_samples(training_dataset)"
   ],
   "id": "390130d3b3672b34",
   "execution_count": 10,
   "outputs": []
  },
  {
   "metadata": {
    "ExecuteTime": {
     "end_time": "2024-04-27T18:33:06.340905Z",
     "start_time": "2024-04-27T18:33:06.156693Z"
    }
   },
   "cell_type": "code",
   "source": [
    "print(\"Validation Samples:\")\n",
    "plot_samples(validation_dataset)"
   ],
   "id": "522f490904760e5f",
   "execution_count": 11,
   "outputs": []
  },
  {
   "metadata": {
    "ExecuteTime": {
     "end_time": "2024-04-27T18:33:06.567116Z",
     "start_time": "2024-04-27T18:33:06.341690Z"
    }
   },
   "cell_type": "code",
   "source": [
    "print(\"Test Samples:\")\n",
    "plot_samples(test_dataset)"
   ],
   "id": "59741788702f0a7f",
   "execution_count": 12,
   "outputs": []
  },
  {
   "metadata": {
    "ExecuteTime": {
     "end_time": "2024-04-27T18:33:06.598291Z",
     "start_time": "2024-04-27T18:33:06.567940Z"
    }
   },
   "cell_type": "code",
   "source": "plot_sample(training_dataset.__getitem__(1))",
   "id": "3faa06c442703c4",
   "execution_count": 13,
   "outputs": []
  },
  {
   "metadata": {
    "ExecuteTime": {
     "end_time": "2024-04-27T18:33:06.601381Z",
     "start_time": "2024-04-27T18:33:06.599102Z"
    }
   },
   "cell_type": "code",
   "source": "print(\"Labels of first 10 training samples:\", [training_dataset[i][1] for i in range(10)])",
   "id": "74cc65870da38d5a",
   "execution_count": 14,
   "outputs": []
  },
  {
   "metadata": {
    "ExecuteTime": {
     "end_time": "2024-04-27T18:34:14.544664Z",
     "start_time": "2024-04-27T18:34:14.110619Z"
    }
   },
   "cell_type": "code",
   "source": [
    "import torch\n",
    "import torchvision\n",
    "import torchvision.transforms.v2 as v2\n",
    "\n",
    "from dlvc.viz import imshow\n",
    "\n",
    "classes = ('plane', 'car', 'bird', 'cat',\n",
    "            'deer', 'dog', 'frog', 'horse', 'ship', 'truck')\n",
    "\n",
    "transform = v2.Compose([v2.ToImage(), \n",
    "                            v2.ToDtype(torch.float32, scale=True)])\n",
    "\n",
    "\n",
    "    \n",
    "train_data = CIFAR10Dataset(fdir='cifar-10-batches-py', subset=Subset.TRAINING, transform=transform)\n",
    "train_data_loader = torch.utils.data.DataLoader(train_data,\n",
    "                                        batch_size=8,\n",
    "                                        shuffle=False,\n",
    "                                        num_workers=2)\n",
    "\n",
    "# get some random training images\n",
    "dataiter = iter(train_data_loader)\n",
    "images, labels = next(dataiter)\n",
    "\n",
    "# show images\n",
    "imshow(torchvision.utils.make_grid(images))\n",
    "# print labels\n",
    "print(' '.join(f'{classes[labels[j]]:5s}' for j in range(8)))"
   ],
   "id": "7fbafcb807a8bb87",
   "execution_count": 17,
   "outputs": []
  },
  {
   "metadata": {
    "ExecuteTime": {
     "end_time": "2024-04-27T18:36:48.646581Z",
     "start_time": "2024-04-27T18:36:47.296790Z"
    }
   },
   "cell_type": "code",
   "source": [
    "import torch\n",
    "\n",
    "print(torch.__version__)\n",
    "print(torch.cuda.is_available())"
   ],
   "id": "1050448a1e13260e",
   "execution_count": 19,
   "outputs": []
  },
  {
   "metadata": {},
   "cell_type": "markdown",
   "source": "# Metrics",
   "id": "1e2903f0acc7e5ad"
  },
  {
   "metadata": {
    "ExecuteTime": {
     "end_time": "2024-04-27T19:36:03.241390Z",
     "start_time": "2024-04-27T19:36:03.237514Z"
    }
   },
   "cell_type": "code",
   "source": [
    "from dlvc.metrics import Accuracy\n",
    "\n",
    "accuracy_measure = Accuracy(classes=['cat', 'dog', 'frog'])\n",
    "\n",
    "# predictions = torch.randn(10, 3)\n",
    "predictions = torch.tensor([\n",
    "    [1, 0, 0],\n",
    "    [0, 1, 0],\n",
    "    [0, 0, 1]\n",
    "    ])\n",
    "targets = torch.tensor([0, 1, 2])\n",
    "\n",
    "accuracy_measure.update(predictions, targets)\n",
    "print(accuracy_measure)"
   ],
   "id": "ea1264cd51a8a01f",
   "execution_count": 36,
   "outputs": []
  },
  {
   "metadata": {},
   "cell_type": "code",
   "execution_count": null,
   "source": "",
   "id": "bf0193543b67d55a",
   "outputs": []
  }
 ],
 "metadata": {
  "kernelspec": {
   "display_name": "Python 3",
   "language": "python",
   "name": "python3"
  },
  "language_info": {
   "codemirror_mode": {
    "name": "ipython",
    "version": 2
   },
   "file_extension": ".py",
   "mimetype": "text/x-python",
   "name": "python",
   "nbconvert_exporter": "python",
   "pygments_lexer": "ipython2",
   "version": "2.7.6"
  }
 },
 "nbformat": 4,
 "nbformat_minor": 5
}
